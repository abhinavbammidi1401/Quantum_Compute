{
 "cells": [
  {
   "cell_type": "code",
   "execution_count": 4,
   "metadata": {},
   "outputs": [],
   "source": [
    "import numpy as np\n",
    "from qiskit import QuantumCircuit\n",
    "from qiskit_aer import AerSimulator\n",
    "from qiskit.visualization import plot_circuit_layout"
   ]
  },
  {
   "cell_type": "code",
   "execution_count": 5,
   "metadata": {},
   "outputs": [],
   "source": [
    "def deutsch_oracle(function_type):\n",
    "    \"\"\"Create quantum oracle for different function types\"\"\"\n",
    "    oracle = QuantumCircuit(2, name=f'Oracle-{function_type}')\n",
    "    \n",
    "    if function_type == 'constant_zero':\n",
    "        pass\n",
    "    \n",
    "    elif function_type == 'constant_one':\n",
    "        oracle.x(1)\n",
    "    \n",
    "    elif function_type == 'balanced_one':\n",
    "        oracle.cx(0, 1)\n",
    "    \n",
    "    elif function_type == 'balanced_zero':\n",
    "        oracle.x(0)\n",
    "        oracle.cx(0, 1)\n",
    "        oracle.x(0)\n",
    "    \n",
    "    return oracle"
   ]
  },
  {
   "cell_type": "code",
   "execution_count": 6,
   "metadata": {},
   "outputs": [],
   "source": [
    "def deutsch_algorithm(oracle):\n",
    "    \"\"\"Implement Deutsch's algorithm\"\"\"\n",
    "    # Create circuit\n",
    "    circuit = QuantumCircuit(2, 1)\n",
    "    \n",
    "    # Initial state preparation\n",
    "    circuit.h(0)  # Hadamard on first qubit\n",
    "    circuit.x(1)  # Flip second qubit\n",
    "    circuit.h(1)  # Hadamard on second qubit\n",
    "    \n",
    "    # Add oracle\n",
    "    circuit.compose(oracle, inplace=True)\n",
    "    \n",
    "    # Measurement preparation\n",
    "    circuit.h(0)  # Hadamard back on first qubit\n",
    "    circuit.measure(0, 0)  # Measure first qubit\n",
    "    \n",
    "    # Print circuit\n",
    "    print(circuit)\n",
    "    \n",
    "    # Run simulation\n",
    "    simulator = AerSimulator()\n",
    "    result = simulator.run(circuit, shots=1).result()\n",
    "    counts = result.get_counts()\n",
    "    \n",
    "    # Interpret result\n",
    "    return 'constant' if list(counts.keys())[0] == '0' else 'balanced'"
   ]
  },
  {
   "cell_type": "code",
   "execution_count": 7,
   "metadata": {},
   "outputs": [],
   "source": [
    "# Demonstration of different oracles\n",
    "oracles = [\n",
    "    deutsch_oracle('constant_zero'),\n",
    "    deutsch_oracle('constant_one'), \n",
    "    deutsch_oracle('balanced_one'), \n",
    "    deutsch_oracle('balanced_zero')\n",
    "]"
   ]
  },
  {
   "cell_type": "code",
   "execution_count": 8,
   "metadata": {},
   "outputs": [
    {
     "name": "stdout",
     "output_type": "stream",
     "text": [
      "\n",
      "Oracle 1: Oracle-constant_zero\n",
      "Full Circuit:\n",
      "     ┌───┐┌───┐┌─┐\n",
      "q_0: ┤ H ├┤ H ├┤M├\n",
      "     ├───┤├───┤└╥┘\n",
      "q_1: ┤ X ├┤ H ├─╫─\n",
      "     └───┘└───┘ ║ \n",
      "c: 1/═══════════╩═\n",
      "                0 \n",
      "Result: constant\n",
      "\n",
      "\n",
      "Oracle 2: Oracle-constant_one\n",
      "Full Circuit:\n",
      "     ┌───┐┌───┐     ┌─┐\n",
      "q_0: ┤ H ├┤ H ├─────┤M├\n",
      "     ├───┤├───┤┌───┐└╥┘\n",
      "q_1: ┤ X ├┤ H ├┤ X ├─╫─\n",
      "     └───┘└───┘└───┘ ║ \n",
      "c: 1/════════════════╩═\n",
      "                     0 \n",
      "Result: constant\n",
      "\n",
      "\n",
      "Oracle 3: Oracle-balanced_one\n",
      "Full Circuit:\n",
      "     ┌───┐          ┌───┐┌─┐\n",
      "q_0: ┤ H ├───────■──┤ H ├┤M├\n",
      "     ├───┤┌───┐┌─┴─┐└───┘└╥┘\n",
      "q_1: ┤ X ├┤ H ├┤ X ├──────╫─\n",
      "     └───┘└───┘└───┘      ║ \n",
      "c: 1/═════════════════════╩═\n",
      "                          0 \n",
      "Result: balanced\n",
      "\n",
      "\n",
      "Oracle 4: Oracle-balanced_zero\n",
      "Full Circuit:\n",
      "     ┌───┐┌───┐     ┌───┐┌───┐┌─┐\n",
      "q_0: ┤ H ├┤ X ├──■──┤ X ├┤ H ├┤M├\n",
      "     ├───┤├───┤┌─┴─┐└───┘└───┘└╥┘\n",
      "q_1: ┤ X ├┤ H ├┤ X ├───────────╫─\n",
      "     └───┘└───┘└───┘           ║ \n",
      "c: 1/══════════════════════════╩═\n",
      "                               0 \n",
      "Result: balanced\n",
      "\n"
     ]
    }
   ],
   "source": [
    "# Run algorithm for each oracle and print results\n",
    "for i, oracle in enumerate(oracles, 1):\n",
    "    print(f\"\\nOracle {i}: {oracle.name}\")\n",
    "    print(\"Full Circuit:\")\n",
    "    result = deutsch_algorithm(oracle)\n",
    "    print(f\"Result: {result}\\n\")"
   ]
  }
 ],
 "metadata": {
  "kernelspec": {
   "display_name": "Python 3",
   "language": "python",
   "name": "python3"
  },
  "language_info": {
   "codemirror_mode": {
    "name": "ipython",
    "version": 3
   },
   "file_extension": ".py",
   "mimetype": "text/x-python",
   "name": "python",
   "nbconvert_exporter": "python",
   "pygments_lexer": "ipython3",
   "version": "3.11.5"
  }
 },
 "nbformat": 4,
 "nbformat_minor": 2
}
