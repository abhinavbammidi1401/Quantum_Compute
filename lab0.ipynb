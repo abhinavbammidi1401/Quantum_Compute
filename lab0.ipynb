{
 "cells": [
  {
   "cell_type": "code",
   "execution_count": 1,
   "metadata": {},
   "outputs": [],
   "source": [
    "import numpy as np\n",
    "import matplotlib.pyplot as plt"
   ]
  },
  {
   "cell_type": "code",
   "execution_count": 2,
   "metadata": {},
   "outputs": [
    {
     "name": "stdout",
     "output_type": "stream",
     "text": [
      "Basis vector |0>:\n",
      " [[1]\n",
      " [0]]\n",
      "Basis vector |1>:\n",
      " [[0]\n",
      " [1]]\n"
     ]
    }
   ],
   "source": [
    "# define the computational basis vectors |0> and |1>\n",
    "basis_0 = np.array([[1], [0]])  # |0> = [1, 0]^T\n",
    "basis_1 = np.array([[0], [1]])  # |1> = [0, 1]^T\n",
    "\n",
    "# displaying the basis vectors\n",
    "print(\"Basis vector |0>:\\n\", basis_0)\n",
    "print(\"Basis vector |1>:\\n\", basis_1)"
   ]
  },
  {
   "cell_type": "code",
   "execution_count": 3,
   "metadata": {},
   "outputs": [],
   "source": [
    "# define a qubit state vector |ψ> = α|0> + β|1>\n",
    "def qubit_state(alpha, beta):\n",
    "    \"\"\"Define a qubit state vector |ψ> = α|0> + β|1>.\n",
    "    This functions also checks if the state is valid.\"\"\"\n",
    "    state_vector = alpha * basis_0 + beta * basis_1\n",
    "    norm = np.linalg.norm(state_vector)\n",
    "\n",
    "    # check if the state is normalized (norm should be 1)\n",
    "    if np.isclose(norm, 1.0):\n",
    "        print(\"\\nState Vector is normalized.\")\n",
    "    else:\n",
    "        print(\"\\nState Vector is not normalized, normalizing now.\")\n",
    "        state_vector /= norm\n",
    "\n",
    "    return state_vector"
   ]
  },
  {
   "cell_type": "code",
   "execution_count": 4,
   "metadata": {},
   "outputs": [],
   "source": [
    "# Function to simulate a measurement and calculate probabilities.\n",
    "def simulate(state_vector):\n",
    "    \"\"\"Simulate a measurement on the quibit in the standard basis.\n",
    "    Returns the probability of measuring |0> and |1>.\"\"\"\n",
    "    alpha = state_vector[0][0]\n",
    "    beta = state_vector[1][0]\n",
    "\n",
    "    prob_0 = np.abs(alpha)**2   # probability of measuring |0>\n",
    "    prob_1 = np.abs(beta)**2    # probability of measuring |1>\n",
    "\n",
    "    return prob_0, prob_1"
   ]
  },
  {
   "cell_type": "code",
   "execution_count": 5,
   "metadata": {},
   "outputs": [],
   "source": [
    "# visualize the measurement result\n",
    "def visualize(prob_0, prob_1):\n",
    "    \"\"\"Visualize the probabilities of measuring |0> and |1> as a bar plot.\"\"\"\n",
    "    outcomes = ['|0>', '|1>']\n",
    "    probabilties = [prob_0, prob_1]\n",
    "\n",
    "    plt.bar(outcomes, probabilties, color=['blue', 'red'])\n",
    "    plt.ylabel('Probability')\n",
    "    plt.title('Measurement of Probabilities')\n",
    "    plt.ylim([0, 1])\n",
    "    plt.show()"
   ]
  },
  {
   "cell_type": "code",
   "execution_count": 8,
   "metadata": {},
   "outputs": [
    {
     "name": "stdout",
     "output_type": "stream",
     "text": [
      "\n",
      "State Vector is not normalized, normalizing now.\n",
      "\n",
      "Qubit state vector |ψ>:\n",
      " [[0.83205029]\n",
      " [0.5547002 ]]\n",
      "\n",
      "Probability of measuring |0>: 0.6923076923076924\n",
      "\n",
      "Probability of measuring |1>: 0.3076923076923076\n"
     ]
    },
    {
     "data": {
      "image/png": "[encoded data removed]",
      "text/plain": [
       "<Figure size 640x480 with 1 Axes>"
      ]
     },
     "metadata": {},
     "output_type": "display_data"
    }
   ],
   "source": [
    "# example: Define a qubit state with α = 1/√5 and β = 1/√2\n",
    "alpha = 1/np.sqrt(4)\n",
    "beta = 1/np.sqrt(9)\n",
    "\n",
    "# define the qubit state\n",
    "state_vector = qubit_state(alpha, beta)\n",
    "\n",
    "# display the qubit state vector\n",
    "print(\"\\nQubit state vector |ψ>:\\n\", state_vector)\n",
    "\n",
    "# simulate measurement and get probabilities\n",
    "prob_0, prob_1 = simulate(state_vector)\n",
    "\n",
    "# display the probabilties of measuring |0> and |1>\n",
    "print(f\"\\nProbability of measuring |0>: {prob_0}\")\n",
    "print(f\"\\nProbability of measuring |1>: {prob_1}\")\n",
    "\n",
    "# visualize the result\n",
    "visualize(prob_0, prob_1)"
   ]
  },
  {
   "cell_type": "code",
   "execution_count": null,
   "metadata": {},
   "outputs": [],
   "source": []
  }
 ],
 "metadata": {
  "kernelspec": {
   "display_name": "Python 3",
   "language": "python",
   "name": "python3"
  },
  "language_info": {
   "codemirror_mode": {
    "name": "ipython",
    "version": 3
   },
   "file_extension": ".py",
   "mimetype": "text/x-python",
   "name": "python",
   "nbconvert_exporter": "python",
   "pygments_lexer": "ipython3",
   "version": "3.11.5"
  }
 },
 "nbformat": 4,
 "nbformat_minor": 2
}
