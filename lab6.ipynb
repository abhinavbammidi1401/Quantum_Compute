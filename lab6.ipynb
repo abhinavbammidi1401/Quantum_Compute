{
 "cells": [
  {
   "cell_type": "code",
   "execution_count": 1,
   "metadata": {},
   "outputs": [],
   "source": [
    "import numpy as np\n",
    "from qiskit_aer import Aer\n",
    "from qiskit.visualization import plot_histogram\n",
    "from qiskit import QuantumCircuit, QuantumRegister, ClassicalRegister"
   ]
  },
  {
   "cell_type": "code",
   "execution_count": 2,
   "metadata": {},
   "outputs": [],
   "source": [
    "def create_superdense_coding_circuit(c, d):\n",
    "    \"\"\"\n",
    "    Creates a superdense coding circuit to transmit 2 classical bits (c, d)\n",
    "    Args:\n",
    "        c (int): First classical bit (0 or 1)\n",
    "        d (int): Second classical bit (0 or 1)\n",
    "    Returns:\n",
    "        QuantumCircuit: Completed superdense coding circuit\n",
    "    \"\"\"\n",
    "    # Create quantum and classical registers\n",
    "    q = QuantumRegister(2, 'q')  # 2 qubits: Alice's qubit, Bob's qubit\n",
    "    c_reg = ClassicalRegister(2, 'c')  # 2 classical bits for output\n",
    "    qc = QuantumCircuit(q, c_reg)\n",
    "\n",
    "    # Prepare the initial state\n",
    "    qc.h(0)  # Apply Hadamard gate to qubit 0\n",
    "    qc.cx(0, 1)  # Apply CNOT with qubit 0 as control and qubit 1 as target\n",
    "\n",
    "    # Apply encoding based on c and d\n",
    "    if c == 1:\n",
    "        qc.x(0)\n",
    "    if d == 1:\n",
    "        qc.z(0)\n",
    "\n",
    "    # Measure the qubits\n",
    "    qc.measure(0, 0)  # Measure qubit 0 -> classical bit 0\n",
    "    qc.measure(1, 1)  # Measure qubit 1 -> classical bit 1\n",
    "\n",
    "    return qc"
   ]
  },
  {
   "cell_type": "code",
   "execution_count": 3,
   "metadata": {},
   "outputs": [],
   "source": [
    "def test_superdense_coding():\n",
    "    \"\"\"\n",
    "    Tests the superdense coding protocol by randomly generating c and d,\n",
    "    running the circuit, and verifying that Alice and Bob's bits match.\n",
    "    \"\"\"\n",
    "    # Generate random c and d\n",
    "    c = np.random.randint(2)\n",
    "    d = np.random.randint(2)\n",
    "    print(f\"Transmitting bits: c={c}, d={d}\")\n",
    "\n",
    "    # Create and execute the circuit\n",
    "    qc = create_superdense_coding_circuit(c, d)\n",
    "    backend = Aer.get_backend('qasm_simulator')\n",
    "    job = backend.run(qc)\n",
    "    result = job.result()\n",
    "\n",
    "    # Get measurement results\n",
    "    counts = result.get_counts(qc)\n",
    "    print(\"Measurement results:\", counts)\n",
    "\n",
    "    # Verify that Alice and Bob's bits match\n",
    "    alice_bit = list(counts.keys())[0][0]\n",
    "    bob_bit = list(counts.keys())[0][1]\n",
    "    if int(alice_bit) == c and int(bob_bit) == d:\n",
    "        print(\"Superdense coding successful!\")\n",
    "    else:\n",
    "        print(\"Superdense coding failed.\")"
   ]
  },
  {
   "cell_type": "code",
   "execution_count": 4,
   "metadata": {},
   "outputs": [
    {
     "name": "stdout",
     "output_type": "stream",
     "text": [
      "\n",
      "==================================================\n",
      "Transmitting bits: c=0, d=1\n",
      "Measurement results: {'00': 501, '11': 523}\n",
      "Superdense coding failed.\n",
      "\n",
      "==================================================\n",
      "Transmitting bits: c=0, d=1\n",
      "Measurement results: {'11': 513, '00': 511}\n",
      "Superdense coding failed.\n",
      "\n",
      "==================================================\n",
      "Transmitting bits: c=0, d=0\n",
      "Measurement results: {'00': 510, '11': 514}\n",
      "Superdense coding successful!\n",
      "\n",
      "==================================================\n",
      "Transmitting bits: c=1, d=1\n",
      "Measurement results: {'10': 505, '01': 519}\n",
      "Superdense coding failed.\n",
      "\n",
      "==================================================\n",
      "Transmitting bits: c=0, d=1\n",
      "Measurement results: {'11': 502, '00': 522}\n",
      "Superdense coding failed.\n"
     ]
    }
   ],
   "source": [
    "# Run the test multiple times\n",
    "for _ in range(5):\n",
    "    print(\"\\n\" + \"=\"*50)\n",
    "    test_superdense_coding()"
   ]
  }
 ],
 "metadata": {
  "kernelspec": {
   "display_name": "Python 3",
   "language": "python",
   "name": "python3"
  },
  "language_info": {
   "codemirror_mode": {
    "name": "ipython",
    "version": 3
   },
   "file_extension": ".py",
   "mimetype": "text/x-python",
   "name": "python",
   "nbconvert_exporter": "python",
   "pygments_lexer": "ipython3",
   "version": "3.11.5"
  }
 },
 "nbformat": 4,
 "nbformat_minor": 2
}
